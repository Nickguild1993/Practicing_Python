{
 "cells": [
  {
   "cell_type": "code",
   "execution_count": null,
   "metadata": {},
   "outputs": [],
   "source": [
    "### PRACTICE NOTEBOOK ### PYTHON- LISTS, TUPLES, SETS, DICTS ### PYTHON PRACTICE 9.12.20"
   ]
  },
  {
   "cell_type": "code",
   "execution_count": null,
   "metadata": {},
   "outputs": [],
   "source": [
    "# Lists: General purpose, most widely used data structure, sortable (can change)\n",
    "\n",
    "# Tuple: Immutable, useful for fixed data, faster than a list\n",
    "\n",
    "# Set: Store non-duplicate items, can use for math set operations, unordered\n",
    "\n",
    "# Dict: Key/Value pairs, it's an associative array, unordered"
   ]
  },
  {
   "cell_type": "code",
   "execution_count": null,
   "metadata": {},
   "outputs": [],
   "source": [
    "# SEQUENCES - String, List, Tuple"
   ]
  },
  {
   "cell_type": "code",
   "execution_count": 2,
   "metadata": {},
   "outputs": [
    {
     "name": "stdout",
     "output_type": "stream",
     "text": [
      "g\n",
      "bear\n"
     ]
    }
   ],
   "source": [
    "# Indexing - Access any item in the sequence using it's index\n",
    "\n",
    "# String example\n",
    "x = \"frog\"\n",
    "print(x[3])\n",
    "#output = g\n",
    "\n",
    "# list example\n",
    "\n",
    "x = [\"man\", \"bear\", \"pig\"]\n",
    "print(x[1])\n",
    "# output = bear\n"
   ]
  },
  {
   "cell_type": "code",
   "execution_count": 5,
   "metadata": {},
   "outputs": [
    {
     "data": {
      "text/plain": [
       "['Wallce', 'Dole']"
      ]
     },
     "execution_count": 5,
     "metadata": {},
     "output_type": "execute_result"
    }
   ],
   "source": [
    "# Slicing \n",
    "# Slice out substrings, sublists, subtuples using indexes\n",
    "x = \"computer\"\n",
    "x[1:4]\n",
    "\n",
    "# output = \"omp\"\n",
    "\n",
    "x[-1]\n",
    "\n",
    "# output = \"r\" \n",
    "\n",
    "y = [\"David\", \"Foster\", \"Wallce\", \"Dole\"]\n",
    "y[2:]\n",
    "\n",
    "# output = [\"wallce\", \"dole\"]\n"
   ]
  },
  {
   "cell_type": "code",
   "execution_count": 6,
   "metadata": {},
   "outputs": [
    {
     "name": "stdout",
     "output_type": "stream",
     "text": [
      "['Luke', 'Dog', 'Rabbit']\n"
     ]
    }
   ],
   "source": [
    "# Adding / Concatenating\n",
    "\n",
    "# combine two sequences of the *same type* using +\n",
    "\n",
    "# List example\n",
    "x = [\"Luke\", \"Dog\"] + [\"Rabbit\"]\n",
    "print (x)\n",
    "\n",
    "# output = [\"Luke\", \"Dog\", \"Rabbit\"]"
   ]
  },
  {
   "cell_type": "code",
   "execution_count": 7,
   "metadata": {},
   "outputs": [
    {
     "name": "stdout",
     "output_type": "stream",
     "text": [
      "True\n"
     ]
    }
   ],
   "source": [
    "# Checking Membership using *in* and *not in*\n",
    "\n",
    "x = \"Soup\"\n",
    "print (\"u\" in x)\n",
    "\n",
    "# output - true b/c there is a \"u\" in soup"
   ]
  },
  {
   "cell_type": "code",
   "execution_count": 8,
   "metadata": {},
   "outputs": [
    {
     "name": "stdout",
     "output_type": "stream",
     "text": [
      "['Aaron', 'Bob', 'Garry', 'Mark', 'Tyrone']\n"
     ]
    }
   ],
   "source": [
    "# Sorting - returns a new list of items in *sorted* order\n",
    "# does not change the original list.\n",
    "\n",
    "x = [\"Garry\", \"Tyrone\", \"Aaron\", \"Mark\", \"Bob\"]\n",
    "print(sorted(x))\n",
    "\n",
    "# output- [Aaron, Bob, Garry, Mark, Tyrone] - prints in alphapetical order!"
   ]
  },
  {
   "cell_type": "code",
   "execution_count": 9,
   "metadata": {},
   "outputs": [
    {
     "name": "stdout",
     "output_type": "stream",
     "text": [
      "2\n"
     ]
    }
   ],
   "source": [
    "# Count (item)\n",
    "# Returns count of an item \n",
    "\n",
    "x = [\"Cat\", \"Mouse\", \"Cat\", \"Dog\", \"Elephant\"]\n",
    "print(x.count(\"Cat\"))\n",
    "\n",
    "# Output is 2, b/c \"cat\" appears twice in the list"
   ]
  },
  {
   "cell_type": "code",
   "execution_count": 11,
   "metadata": {},
   "outputs": [
    {
     "name": "stdout",
     "output_type": "stream",
     "text": [
      "Elephant\n"
     ]
    }
   ],
   "source": [
    "# Unpacking - unpack the \"n\" items of a sequence into \"n\" variables\n",
    "\n",
    "x = [\"Elephant\", \"Dog\", \"Manetee\"]\n",
    "a,b,c = x\n",
    "print(a)\n",
    "\n",
    "# output is Elephant.  ** the number of assigned variables *MUST* be the same length as the list of items in the variable."
   ]
  },
  {
   "cell_type": "code",
   "execution_count": 15,
   "metadata": {},
   "outputs": [
    {
     "name": "stdout",
     "output_type": "stream",
     "text": [
      "[5, 9, 7, 12, 6, 4]\n",
      "[5, ['cow', 'walrus'], 9, 7, 12, 6, 4]\n"
     ]
    }
   ],
   "source": [
    "# Insert (list) allows you to *insert* an item at a given INDEX. \n",
    "# x.insert(index, item)\n",
    "\n",
    "x = [5, 7, 12, 6, 4]\n",
    "x.insert(1,9)\n",
    "print(x)\n",
    "\n",
    "# output is [5,9,7,12,6,4] 9 is placed at index 1.\n",
    "\n",
    "# can also insert string values (b/c a list can have values with different data types)\n",
    "x.insert(1, [\"cow\", \"walrus\"])\n",
    "print(x)\n",
    "\n",
    "# OUTPUT - [5, [\"cow\", walrus\"],9,7,12,6,4]\n"
   ]
  },
  {
   "cell_type": "code",
   "execution_count": 16,
   "metadata": {},
   "outputs": [
    {
     "name": "stdout",
     "output_type": "stream",
     "text": [
      "[5, 3, 12]\n"
     ]
    }
   ],
   "source": [
    "# REMOVE- list. Remove first instance of an item. x.remove(item)\n",
    "\n",
    "x = [5, 3, 9, 12]\n",
    "x.remove(9)\n",
    "print(x)\n",
    "\n",
    "# OUTPUT - [5,3,12] removed the 9."
   ]
  },
  {
   "cell_type": "code",
   "execution_count": null,
   "metadata": {},
   "outputs": [],
   "source": [
    "###### TUPLES ###### TUPLES ###### TUPLES ###### TUPLES ###### TUPLES ###### TUPLES ###### TUPLES "
   ]
  },
  {
   "cell_type": "code",
   "execution_count": null,
   "metadata": {},
   "outputs": [],
   "source": [
    "# CREATING TUPLES\n",
    "\n",
    "# x = () # empty tuple\n",
    "\n",
    "# x = (1,2,3) OR x = 1,2,3 # Paranthesis are optional\n",
    "\n",
    "# x = 2, # Single-item tuple\n",
    "\n",
    "# x = tuple(list1) # tuple from a list"
   ]
  },
  {
   "cell_type": "code",
   "execution_count": 18,
   "metadata": {},
   "outputs": [
    {
     "name": "stdout",
     "output_type": "stream",
     "text": [
      "([1], 3)\n"
     ]
    }
   ],
   "source": [
    "# Remember that tuples are immutable, HOWEVER, items that are mutable (like lists) \n",
    "# that're inside the tuple, can be altered \n",
    "\n",
    "# x = (1,2,3)\n",
    "\n",
    "# del(x[1]) # will return an error\n",
    "# x[1] = 8 # will return an error\n",
    "\n",
    "# HOWEVER\n",
    "\n",
    "x = ([1, 2], 3) # 2-item tuple: first a list [1,2] and int, 3. the int is immutable. the list ISN'T\n",
    "del(x[0][1])\n",
    "print(x)\n",
    "\n",
    "# OUTPUT = ([1], 3)"
   ]
  },
  {
   "cell_type": "code",
   "execution_count": null,
   "metadata": {},
   "outputs": [],
   "source": [
    "# DICTIONARIES ##### DICTIONARIES ##### DICTIONARIES ##### DICTIONARIES ##### DICTIONARIES ####\n",
    "# Key | Value pair"
   ]
  },
  {
   "cell_type": "code",
   "execution_count": null,
   "metadata": {},
   "outputs": [],
   "source": [
    "# Creating a new dictionary \n",
    "\n",
    "x = {\"pork\" : 30.2, \"beef\" : 44.2, \"chicken\" : 27.6}\n",
    "\n",
    "# can also do \n",
    "\n",
    "x = dict(pork = 30.2, beef = 44.2, chicken = 27.6)\n"
   ]
  },
  {
   "cell_type": "code",
   "execution_count": null,
   "metadata": {},
   "outputs": [],
   "source": [
    "#### Basic dict operations ####\n",
    "x[\"Beef\"] = 24.7 # Add or change item in dict x\n",
    "# x[key] = value  / if you already have that [key] in the dict, it'll change it to the new one.  \n",
    "# if you DO NOT already have it in the dict, it will add that KEY VALUE PAIR into the dict.\n",
    "\n",
    "del x[\"Beef\"] # REMOVE item from dict x\n",
    "\n",
    "len(x) # Get length of dict x"
   ]
  },
  {
   "cell_type": "code",
   "execution_count": 21,
   "metadata": {},
   "outputs": [
    {
     "data": {
      "text/plain": [
       "dict_items([('pork', 30.2), ('beef', 44.2), ('chicken', 27.6)])"
      ]
     },
     "execution_count": 21,
     "metadata": {},
     "output_type": "execute_result"
    }
   ],
   "source": [
    "#### Accessing keys and values in a dict ####\n",
    "\n",
    "x = {\"pork\" : 30.2, \"beef\" : 44.2, \"chicken\" : 27.6}\n",
    "\n",
    "\n",
    "x.keys() # returns list of KEYS in x\n",
    "\n",
    "#OUTPUT = dict_keys(['pork', 'beef', 'chicken'])\n",
    "\n",
    "\n",
    "\n",
    "x.values() # returns list of VALUES in x\n",
    "\n",
    "# OUTPUT = dict_values([30.2, 44.2, 27.6])\n",
    "\n",
    "\n",
    "\n",
    "x.items() # returns list of KEY-VALUE tuple pairs in X\n",
    "\n",
    "# OUTPUT = dict_items([('pork', 30.2), ('beef', 44.2), ('chicken', 27.6)])"
   ]
  },
  {
   "cell_type": "code",
   "execution_count": null,
   "metadata": {},
   "outputs": [],
   "source": [
    "#### Iterating a dict ####\n",
    "\n",
    "for key in x:                # iterate keys\n",
    "    print (key, x[key])      # print all key/value pairs\n",
    "    \n",
    "\n",
    "    \n",
    "for k, v in x.items():      # iterate key/value pairs   ||| k = keys, v = values\n",
    "    print(k, v)             # print all key/value pairs"
   ]
  }
 ],
 "metadata": {
  "kernelspec": {
   "display_name": "PythonData",
   "language": "python",
   "name": "pythondata"
  },
  "language_info": {
   "codemirror_mode": {
    "name": "ipython",
    "version": 3
   },
   "file_extension": ".py",
   "mimetype": "text/x-python",
   "name": "python",
   "nbconvert_exporter": "python",
   "pygments_lexer": "ipython3",
   "version": "3.7.7"
  }
 },
 "nbformat": 4,
 "nbformat_minor": 4
}
