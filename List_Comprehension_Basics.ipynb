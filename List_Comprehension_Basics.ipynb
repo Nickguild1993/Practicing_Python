{
 "cells": [
  {
   "cell_type": "code",
   "execution_count": null,
   "metadata": {},
   "outputs": [],
   "source": [
    "# LIST COMPREHENSION #### 9.12.20"
   ]
  },
  {
   "cell_type": "code",
   "execution_count": 2,
   "metadata": {},
   "outputs": [
    {
     "data": {
      "text/plain": [
       "[0, 1, 4, 9, 16, 25, 36, 49, 64, 81]"
      ]
     },
     "execution_count": 2,
     "metadata": {},
     "output_type": "execute_result"
    }
   ],
   "source": [
    "squares = [x * x for x in range (10)]\n",
    "squares\n",
    "\n",
    "# output = [0, 1, 4, 9, 16, 25, 36, 49, 64, 81]\n",
    "# which is just the square of all numbers between 0-9 - which it gets from range (10)\n"
   ]
  },
  {
   "cell_type": "code",
   "execution_count": 4,
   "metadata": {},
   "outputs": [
    {
     "data": {
      "text/plain": [
       "[0, 1, 4, 9, 16, 25, 36, 49, 64, 81]"
      ]
     },
     "execution_count": 4,
     "metadata": {},
     "output_type": "execute_result"
    }
   ],
   "source": [
    "# the above list comp as a FOR LOOP\n",
    "\n",
    "squares = []\n",
    "for x in range(10):\n",
    "    squares.append(x * x)\n",
    "squares\n",
    "\n",
    "# output =  [0, 1, 4, 9, 16, 25, 36, 49, 64, 81]"
   ]
  },
  {
   "cell_type": "code",
   "execution_count": null,
   "metadata": {},
   "outputs": [],
   "source": [
    "# Structure for list comphrension\n",
    "\n",
    "(values) = [ (expression) for (value) in (collection)]\n",
    "squares =  [   x * x      for x       in  range (10)]\n",
    "\n",
    "# transforms into for loop version\n",
    "\n",
    "(values) = []\n",
    "for (value) in (collection):\n",
    "    (values).append( (expression))"
   ]
  },
  {
   "cell_type": "code",
   "execution_count": 10,
   "metadata": {},
   "outputs": [],
   "source": [
    "### Format for list comprehension\n",
    "\n",
    "# new_list = [transform sequence [filter] ]\n",
    "import random"
   ]
  },
  {
   "cell_type": "code",
   "execution_count": 11,
   "metadata": {},
   "outputs": [
    {
     "name": "stdout",
     "output_type": "stream",
     "text": [
      "odds: [1, 3, 5, 7, 9]\n"
     ]
    }
   ],
   "source": [
    "# Filter in list comprehension\n",
    "\n",
    "odds = [x for x in range(10) if x%2 == 1] # meaning they have a remainder of 1, ergo, odd numbers.\n",
    "print(\"odds: \" + str(odds))\n",
    "\n",
    "#output = odds: [1, 3, 5, 7, 9]"
   ]
  },
  {
   "cell_type": "code",
   "execution_count": 13,
   "metadata": {},
   "outputs": [
    {
     "name": "stdout",
     "output_type": "stream",
     "text": [
      "index = 2\n"
     ]
    }
   ],
   "source": [
    "# Getting the index of a list item with LIST COMPREHENSION\n",
    "\n",
    "names = [\"James\", \"Luke\", \"Trevor\", \"Bart\"]\n",
    "idx = [k for k, v in enumerate(names) if v == \"Trevor\"]   # k = key v = value\n",
    "print(\"index = \" + str(idx[0]))\n",
    "\n",
    "# output:  index = 2"
   ]
  },
  {
   "cell_type": "code",
   "execution_count": 14,
   "metadata": {},
   "outputs": [
    {
     "name": "stdout",
     "output_type": "stream",
     "text": [
      "new list [50, 30, 10, 18, 6, 70]\n"
     ]
    }
   ],
   "source": [
    "# if-else condition in a comprehension (MUST COME BEFORE ITERATION)\n",
    "\n",
    "nums = [5, 3, 10, 18, 6, 7]\n",
    "new_list = [x if x%2 == 0 else 10*x for x in nums]\n",
    "print(\"new list \" + str(new_list))\n",
    "\n",
    "# if the value in [nums] is odd, then it's * by 10, if it is even, then it STAYS the same in *new_list*\n",
    "# output: new list [50, 30, 10, 18, 6, 70]"
   ]
  },
  {
   "cell_type": "code",
   "execution_count": null,
   "metadata": {},
   "outputs": [],
   "source": []
  }
 ],
 "metadata": {
  "kernelspec": {
   "display_name": "PythonData",
   "language": "python",
   "name": "pythondata"
  },
  "language_info": {
   "codemirror_mode": {
    "name": "ipython",
    "version": 3
   },
   "file_extension": ".py",
   "mimetype": "text/x-python",
   "name": "python",
   "nbconvert_exporter": "python",
   "pygments_lexer": "ipython3",
   "version": "3.7.7"
  }
 },
 "nbformat": 4,
 "nbformat_minor": 4
}
